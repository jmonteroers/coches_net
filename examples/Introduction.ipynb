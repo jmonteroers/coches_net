{
 "cells": [
  {
   "cell_type": "markdown",
   "metadata": {},
   "source": [
    " ## Introduction\n",
    " \n",
    " In this document, I aim to explain how you can use the functions provided by the package `coches_net` to obtain data from cars publicised in [coches.net](https://www.coches.net/)"
   ]
  },
  {
   "cell_type": "code",
   "execution_count": 1,
   "metadata": {},
   "outputs": [],
   "source": [
    "# 3rd-party modules\n",
    "from os import scandir  # to list files in directory\n",
    "import datetime  # to add day of download as argument\n",
    "\n",
    "# my package\n",
    "import coches_net  # should already be installed with pip"
   ]
  },
  {
   "cell_type": "markdown",
   "metadata": {},
   "source": [
    "## How to get the HTML pages"
   ]
  },
  {
   "cell_type": "markdown",
   "metadata": {},
   "source": [
    "It is as easy as following these instructions:\n",
    "\n",
    "1. On the main page of [coches.net](https://www.coches.net/), click on any of the links that appear when you hover over 'Buscar' in the upper menu. \n",
    "2. You will be redirected to a page such as [this page](https://www.coches.net/segunda-mano/). Here, introduce your search parameters. \n",
    "3. Then, save each page you want to analyse as a complete webpage. Enigmatically, this is the only way that I have been able to find to avoid being detected as a robot"
   ]
  },
  {
   "cell_type": "markdown",
   "metadata": {},
   "source": [
    "## Ingesting the data"
   ]
  },
  {
   "cell_type": "markdown",
   "metadata": {},
   "source": [
    "In the folder `data/`, I have stored some html files with all the ads on Fiat Pandas sold by professional sellers from at least 2013 (those were the parameters of my search, I don't want to get a car with more than seven years). Let's have a look at them:"
   ]
  },
  {
   "cell_type": "code",
   "execution_count": 2,
   "metadata": {},
   "outputs": [
    {
     "data": {
      "text/plain": [
       "['fiat_panda_profesional_1.html',\n",
       " 'fiat_panda_profesional_10.html',\n",
       " 'fiat_panda_profesional_2.html',\n",
       " 'fiat_panda_profesional_3.html',\n",
       " 'fiat_panda_profesional_4.html',\n",
       " 'fiat_panda_profesional_5.html',\n",
       " 'fiat_panda_profesional_6.html',\n",
       " 'fiat_panda_profesional_7.html',\n",
       " 'fiat_panda_profesional_8.html',\n",
       " 'fiat_panda_profesional_9.html']"
      ]
     },
     "execution_count": 2,
     "metadata": {},
     "output_type": "execute_result"
    }
   ],
   "source": [
    "files_at_dir = [entry.name for entry in scandir('original_data/')\n",
    "                if entry.is_file()]\n",
    "sorted(files_at_dir)"
   ]
  },
  {
   "cell_type": "markdown",
   "metadata": {},
   "source": [
    "In fact, you can check the structure of these HTML files just by opening them in any web browser. \n",
    "\n",
    "Let us now create a dataframe from all the ads contained in these files by invoking the function `coches_net.get_all_cars`. The argument `check_all_pages` is passed as `True` first to be sure that the function processes each page:"
   ]
  },
  {
   "cell_type": "code",
   "execution_count": 3,
   "metadata": {},
   "outputs": [],
   "source": [
    "fiat_panda_ads = coches_net.get_all_cars(source_dir='original_data/',\n",
    "                                        date_download=datetime.datetime(2020, 10, 19),\n",
    "                                        check_all_pages=True)"
   ]
  },
  {
   "cell_type": "markdown",
   "metadata": {},
   "source": [
    "There we go! Just like magic, our pandas dataframe should be ready for analysis :) Let's have a look at the first rows of this dataset:"
   ]
  },
  {
   "cell_type": "code",
   "execution_count": 4,
   "metadata": {},
   "outputs": [
    {
     "data": {
      "text/html": [
       "<div>\n",
       "<style scoped>\n",
       "    .dataframe tbody tr th:only-of-type {\n",
       "        vertical-align: middle;\n",
       "    }\n",
       "\n",
       "    .dataframe tbody tr th {\n",
       "        vertical-align: top;\n",
       "    }\n",
       "\n",
       "    .dataframe thead th {\n",
       "        text-align: right;\n",
       "    }\n",
       "</style>\n",
       "<table border=\"1\" class=\"dataframe\">\n",
       "  <thead>\n",
       "    <tr style=\"text-align: right;\">\n",
       "      <th></th>\n",
       "      <th>title</th>\n",
       "      <th>date</th>\n",
       "      <th>spot_price</th>\n",
       "      <th>financed_price</th>\n",
       "      <th>location</th>\n",
       "      <th>type_petrol</th>\n",
       "      <th>year</th>\n",
       "      <th>kilometrage</th>\n",
       "      <th>warranty</th>\n",
       "      <th>office</th>\n",
       "      <th>page</th>\n",
       "    </tr>\n",
       "  </thead>\n",
       "  <tbody>\n",
       "    <tr>\n",
       "      <th>0</th>\n",
       "      <td>FIAT Panda 1.3 75cv Diesel 4x4 E5 5p.</td>\n",
       "      <td>2020-09-07</td>\n",
       "      <td>9500.0</td>\n",
       "      <td>8990.0</td>\n",
       "      <td>Guipúzcoa</td>\n",
       "      <td>Diésel</td>\n",
       "      <td>2014.0</td>\n",
       "      <td>20000.0</td>\n",
       "      <td>1</td>\n",
       "      <td>False</td>\n",
       "      <td>fiat_panda_profesional_10.html</td>\n",
       "    </tr>\n",
       "    <tr>\n",
       "      <th>1</th>\n",
       "      <td>FIAT Panda 1.2 Lounge 51kW 69CV EU6 5p.</td>\n",
       "      <td>2020-09-07</td>\n",
       "      <td>6500.0</td>\n",
       "      <td>5900.0</td>\n",
       "      <td>Baleares</td>\n",
       "      <td>Gasolina</td>\n",
       "      <td>2017.0</td>\n",
       "      <td>55500.0</td>\n",
       "      <td>1</td>\n",
       "      <td>False</td>\n",
       "      <td>fiat_panda_profesional_10.html</td>\n",
       "    </tr>\n",
       "    <tr>\n",
       "      <th>2</th>\n",
       "      <td>FIAT Panda 1.2 Lounge 69cv EU6 5p.</td>\n",
       "      <td>2020-09-07</td>\n",
       "      <td>5500.0</td>\n",
       "      <td>5000.0</td>\n",
       "      <td>Málaga</td>\n",
       "      <td>Gasolina</td>\n",
       "      <td>2016.0</td>\n",
       "      <td>43000.0</td>\n",
       "      <td>1</td>\n",
       "      <td>False</td>\n",
       "      <td>fiat_panda_profesional_10.html</td>\n",
       "    </tr>\n",
       "  </tbody>\n",
       "</table>\n",
       "</div>"
      ],
      "text/plain": [
       "                                     title       date  spot_price  \\\n",
       "0    FIAT Panda 1.3 75cv Diesel 4x4 E5 5p. 2020-09-07      9500.0   \n",
       "1  FIAT Panda 1.2 Lounge 51kW 69CV EU6 5p. 2020-09-07      6500.0   \n",
       "2       FIAT Panda 1.2 Lounge 69cv EU6 5p. 2020-09-07      5500.0   \n",
       "\n",
       "   financed_price   location type_petrol    year  kilometrage  warranty  \\\n",
       "0          8990.0  Guipúzcoa      Diésel  2014.0      20000.0         1   \n",
       "1          5900.0   Baleares    Gasolina  2017.0      55500.0         1   \n",
       "2          5000.0     Málaga    Gasolina  2016.0      43000.0         1   \n",
       "\n",
       "   office                            page  \n",
       "0   False  fiat_panda_profesional_10.html  \n",
       "1   False  fiat_panda_profesional_10.html  \n",
       "2   False  fiat_panda_profesional_10.html  "
      ]
     },
     "execution_count": 4,
     "metadata": {},
     "output_type": "execute_result"
    }
   ],
   "source": [
    "fiat_panda_ads.head(3)"
   ]
  },
  {
   "cell_type": "markdown",
   "metadata": {},
   "source": [
    "### Add more observations to an existing dataframe\n",
    "\n",
    "Here, I will give an example on how to use `coches_net.add_new_pages`"
   ]
  },
  {
   "cell_type": "markdown",
   "metadata": {},
   "source": [
    "## Finding discounts!\n",
    "\n",
    "In this section, we will see the function `coches_net.find_discounts` in action!"
   ]
  }
 ],
 "metadata": {
  "kernelspec": {
   "display_name": "Python 3",
   "language": "python",
   "name": "python3"
  },
  "language_info": {
   "codemirror_mode": {
    "name": "ipython",
    "version": 3
   },
   "file_extension": ".py",
   "mimetype": "text/x-python",
   "name": "python",
   "nbconvert_exporter": "python",
   "pygments_lexer": "ipython3",
   "version": "3.6.9"
  }
 },
 "nbformat": 4,
 "nbformat_minor": 2
}
